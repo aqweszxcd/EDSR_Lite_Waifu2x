{
 "cells": [
  {
   "cell_type": "markdown",
   "metadata": {},
   "source": [
    "### Code reference from (代码参考) https://github.com/krasserm/super-resolution"
   ]
  },
  {
   "cell_type": "markdown",
   "metadata": {},
   "source": [
    "# Import"
   ]
  },
  {
   "cell_type": "code",
   "execution_count": 1,
   "metadata": {
    "scrolled": true
   },
   "outputs": [
    {
     "name": "stdout",
     "output_type": "stream",
     "text": [
      "Caching decoded images in .div2k/caches\\DIV2K_train_LR_bicubic_X2.cache ...\n",
      "Cached decoded images in .div2k/caches\\DIV2K_train_LR_bicubic_X2.cache.\n",
      "Caching decoded images in .div2k/caches\\DIV2K_train_HR.cache ...\n",
      "Cached decoded images in .div2k/caches\\DIV2K_train_HR.cache.\n",
      "WARNING:tensorflow:AutoGraph could not transform <function random_crop at 0x000001C6BE15FEE0> and will run it as-is.\n",
      "Please report this to the TensorFlow team. When filing the bug, set the verbosity to 10 (on Linux, `export AUTOGRAPH_VERBOSITY=10`) and attach the full output.\n",
      "Cause: module 'gast' has no attribute 'Index'\n",
      "To silence this warning, decorate the function with @tf.autograph.experimental.do_not_convert\n",
      "WARNING: AutoGraph could not transform <function random_crop at 0x000001C6BE15FEE0> and will run it as-is.\n",
      "Please report this to the TensorFlow team. When filing the bug, set the verbosity to 10 (on Linux, `export AUTOGRAPH_VERBOSITY=10`) and attach the full output.\n",
      "Cause: module 'gast' has no attribute 'Index'\n",
      "To silence this warning, decorate the function with @tf.autograph.experimental.do_not_convert\n"
     ]
    }
   ],
   "source": [
    "import shutil\n",
    "shutil.rmtree('.div2k/caches')    #递归删除文件夹\n",
    "\n",
    "from data import DIV2K\n",
    "train = DIV2K(scale=2, downgrade='bicubic', subset='train')\n",
    "train_ds = train.dataset(batch_size=16, random_transform=True)"
   ]
  },
  {
   "cell_type": "code",
   "execution_count": 1,
   "metadata": {},
   "outputs": [],
   "source": [
    "import os\n",
    "import time\n",
    "import cv2\n",
    "import numpy as np\n",
    "import tensorflow as tf\n",
    "from PIL import Image\n",
    "\n",
    "from tensorflow.keras.layers import Add, Conv2D, Input, Lambda, ReLU\n",
    "from tensorflow.keras.models import Model\n",
    "from tensorflow.keras.optimizers import Adam\n",
    "from tensorflow.keras.optimizers.schedules import PiecewiseConstantDecay\n",
    "from tensorflow.keras import backend as K\n",
    "from tensorflow.keras.callbacks import ModelCheckpoint\n",
    "\n",
    "from tensorflow.keras.mixed_precision import experimental as mixed_precision"
   ]
  },
  {
   "cell_type": "code",
   "execution_count": 2,
   "metadata": {},
   "outputs": [
    {
     "name": "stdout",
     "output_type": "stream",
     "text": [
      "WARNING:tensorflow:From <ipython-input-2-17bb7203622b>:1: is_gpu_available (from tensorflow.python.framework.test_util) is deprecated and will be removed in a future version.\n",
      "Instructions for updating:\n",
      "Use `tf.config.list_physical_devices('GPU')` instead.\n"
     ]
    },
    {
     "data": {
      "text/plain": [
       "True"
      ]
     },
     "execution_count": 2,
     "metadata": {},
     "output_type": "execute_result"
    }
   ],
   "source": [
    "tf.test.is_gpu_available()"
   ]
  },
  {
   "cell_type": "code",
   "execution_count": 3,
   "metadata": {},
   "outputs": [
    {
     "name": "stdout",
     "output_type": "stream",
     "text": [
      "WARNING:tensorflow:Mixed precision compatibility check (mixed_float16): WARNING\n",
      "Your GPU may run slowly with dtype policy mixed_float16 because it does not have compute capability of at least 7.0. Your GPU:\n",
      "  GeForce GTX 1050 Ti, compute capability 6.1\n",
      "See https://developer.nvidia.com/cuda-gpus for a list of GPUs and their compute capabilities.\n",
      "If you will use compatible GPU(s) not attached to this host, e.g. by running a multi-worker model, you can ignore this warning. This message will only be logged once\n",
      "Compute dtype: float16\n",
      "Variable dtype: float32\n"
     ]
    }
   ],
   "source": [
    "#policy = mixed_precision.Policy('float32')\n",
    "policy = mixed_precision.Policy('mixed_float16')\n",
    "mixed_precision.set_policy(policy)\n",
    "print('Compute dtype: %s' % policy.compute_dtype)\n",
    "print('Variable dtype: %s' % policy.variable_dtype)"
   ]
  },
  {
   "cell_type": "markdown",
   "metadata": {},
   "source": [
    "# EDSR"
   ]
  },
  {
   "cell_type": "code",
   "execution_count": 4,
   "metadata": {},
   "outputs": [],
   "source": [
    "DIV2K_RGB_MEAN = np.array([0.4488, 0.4371, 0.4040]) * 255\n",
    "def pixel_shuffle(scale):\n",
    "    return lambda x: tf.nn.depth_to_space(x, scale)\n",
    "def normalize(x):\n",
    "    return (x - DIV2K_RGB_MEAN) / 127.5\n",
    "def denormalize(x):\n",
    "    return x * 127.5 + DIV2K_RGB_MEAN\n",
    "def upsample(x, scale, num_filters):\n",
    "    def upsample_1(x, factor, **kwargs):\n",
    "        \"\"\"Sub-pixel convolution.\"\"\"\n",
    "        x = Conv2D(num_filters * (factor ** 2), 3, padding='same', **kwargs)(x)\n",
    "        return Lambda(pixel_shuffle(scale=factor))(x)\n",
    "    if scale == 2:\n",
    "        x = upsample_1(x, 2, name='conv2d_1_scale_2')\n",
    "    elif scale == 3:\n",
    "        x = upsample_1(x, 3, name='conv2d_1_scale_3')\n",
    "    elif scale == 4:\n",
    "        x = upsample_1(x, 2, name='conv2d_1_scale_2')\n",
    "        x = upsample_1(x, 2, name='conv2d_2_scale_2')\n",
    "    return x\n",
    "def res_block(x_in, filters):\n",
    "    \"\"\"Creates an EDSR residual block.\"\"\"\n",
    "    x = Conv2D(filters, 3, padding='same', activation='relu')(x_in)\n",
    "    x = Conv2D(filters, 3, padding='same')(x)\n",
    "    x = Add()([x_in, x])\n",
    "    return x\n",
    "def edsr(scale, num_filters=25, num_res_blocks=4):\n",
    "    \"\"\"Creates an EDSR model.\"\"\"\n",
    "    #input normalize\n",
    "    x_in = Input(shape=(None, None, 3))\n",
    "    x = Lambda(normalize)(x_in)\n",
    "    \n",
    "    #res blocks and add\n",
    "    x = Conv2D(num_filters, 3, padding='same')(x)\n",
    "    for i in range(num_res_blocks):\n",
    "        x = res_block(x, num_filters)\n",
    "    x = Conv2D(num_filters, 3, padding='same')(x)\n",
    "    \n",
    "    #up sample\n",
    "    x = upsample(x, scale, num_filters)\n",
    "    x = Conv2D(3, 3, padding='same')(x)\n",
    "    \n",
    "    #output denormalize\n",
    "    x = Lambda(denormalize)(x)\n",
    "    return Model(x_in, x, name=\"edsr\")"
   ]
  },
  {
   "cell_type": "markdown",
   "metadata": {},
   "source": [
    "# Train"
   ]
  },
  {
   "cell_type": "code",
   "execution_count": 11,
   "metadata": {},
   "outputs": [
    {
     "name": "stdout",
     "output_type": "stream",
     "text": [
      "Model: \"edsr\"\n",
      "__________________________________________________________________________________________________\n",
      "Layer (type)                    Output Shape         Param #     Connected to                     \n",
      "==================================================================================================\n",
      "input_5 (InputLayer)            [(None, None, None,  0                                            \n",
      "__________________________________________________________________________________________________\n",
      "lambda_12 (Lambda)              (None, None, None, 3 0           input_5[0][0]                    \n",
      "__________________________________________________________________________________________________\n",
      "conv2d_44 (Conv2D)              (None, None, None, 2 700         lambda_12[0][0]                  \n",
      "__________________________________________________________________________________________________\n",
      "conv2d_45 (Conv2D)              (None, None, None, 2 5650        conv2d_44[0][0]                  \n",
      "__________________________________________________________________________________________________\n",
      "conv2d_46 (Conv2D)              (None, None, None, 2 5650        conv2d_45[0][0]                  \n",
      "__________________________________________________________________________________________________\n",
      "add_16 (Add)                    (None, None, None, 2 0           conv2d_44[0][0]                  \n",
      "                                                                 conv2d_46[0][0]                  \n",
      "__________________________________________________________________________________________________\n",
      "conv2d_47 (Conv2D)              (None, None, None, 2 5650        add_16[0][0]                     \n",
      "__________________________________________________________________________________________________\n",
      "conv2d_48 (Conv2D)              (None, None, None, 2 5650        conv2d_47[0][0]                  \n",
      "__________________________________________________________________________________________________\n",
      "add_17 (Add)                    (None, None, None, 2 0           add_16[0][0]                     \n",
      "                                                                 conv2d_48[0][0]                  \n",
      "__________________________________________________________________________________________________\n",
      "conv2d_49 (Conv2D)              (None, None, None, 2 5650        add_17[0][0]                     \n",
      "__________________________________________________________________________________________________\n",
      "conv2d_50 (Conv2D)              (None, None, None, 2 5650        conv2d_49[0][0]                  \n",
      "__________________________________________________________________________________________________\n",
      "add_18 (Add)                    (None, None, None, 2 0           add_17[0][0]                     \n",
      "                                                                 conv2d_50[0][0]                  \n",
      "__________________________________________________________________________________________________\n",
      "conv2d_51 (Conv2D)              (None, None, None, 2 5650        add_18[0][0]                     \n",
      "__________________________________________________________________________________________________\n",
      "conv2d_52 (Conv2D)              (None, None, None, 2 5650        conv2d_51[0][0]                  \n",
      "__________________________________________________________________________________________________\n",
      "add_19 (Add)                    (None, None, None, 2 0           add_18[0][0]                     \n",
      "                                                                 conv2d_52[0][0]                  \n",
      "__________________________________________________________________________________________________\n",
      "conv2d_53 (Conv2D)              (None, None, None, 2 5650        add_19[0][0]                     \n",
      "__________________________________________________________________________________________________\n",
      "conv2d_1_scale_2 (Conv2D)       (None, None, None, 1 22600       conv2d_53[0][0]                  \n",
      "__________________________________________________________________________________________________\n",
      "lambda_13 (Lambda)              (None, None, None, 2 0           conv2d_1_scale_2[0][0]           \n",
      "__________________________________________________________________________________________________\n",
      "conv2d_54 (Conv2D)              (None, None, None, 3 678         lambda_13[0][0]                  \n",
      "__________________________________________________________________________________________________\n",
      "lambda_14 (Lambda)              (None, None, None, 3 0           conv2d_54[0][0]                  \n",
      "==================================================================================================\n",
      "Total params: 74,828\n",
      "Trainable params: 74,828\n",
      "Non-trainable params: 0\n",
      "__________________________________________________________________________________________________\n",
      "Epoch 1/30\n",
      " 999/1000 [============================>.] - ETA: 0s - loss: 4.4051 - PSNR: 30.9969 - accuracy: 0.9201\n",
      "Epoch 00001: saving model to weights/article\\weights-edsr-x2-0001-30.99.h5\n",
      "1000/1000 [==============================] - 27s 27ms/step - loss: 4.4140 - PSNR: 30.9869 - accuracy: 0.9201\n",
      "Epoch 2/30\n",
      "1000/1000 [==============================] - ETA: 0s - loss: 4.3795 - PSNR: 31.0415 - accuracy: 0.9211\n",
      "Epoch 00002: saving model to weights/article\\weights-edsr-x2-0002-31.04.h5\n",
      "1000/1000 [==============================] - 27s 27ms/step - loss: 4.3795 - PSNR: 31.0415 - accuracy: 0.9211\n",
      "Epoch 3/30\n",
      "1000/1000 [==============================] - ETA: 0s - loss: 4.3453 - PSNR: 31.0965 - accuracy: 0.9214\n",
      "Epoch 00003: saving model to weights/article\\weights-edsr-x2-0003-31.10.h5\n",
      "1000/1000 [==============================] - 27s 27ms/step - loss: 4.3453 - PSNR: 31.0965 - accuracy: 0.9214\n",
      "Epoch 4/30\n",
      "1000/1000 [==============================] - ETA: 0s - loss: 4.4190 - PSNR: 30.9075 - accuracy: 0.9194\n",
      "Epoch 00004: saving model to weights/article\\weights-edsr-x2-0004-30.91.h5\n",
      "1000/1000 [==============================] - 27s 27ms/step - loss: 4.4190 - PSNR: 30.9075 - accuracy: 0.9194\n",
      "Epoch 5/30\n",
      "1000/1000 [==============================] - ETA: 0s - loss: 4.3738 - PSNR: 31.0415 - accuracy: 0.9199\n",
      "Epoch 00005: saving model to weights/article\\weights-edsr-x2-0005-31.04.h5\n",
      "1000/1000 [==============================] - 27s 27ms/step - loss: 4.3738 - PSNR: 31.0415 - accuracy: 0.9199\n",
      "Epoch 6/30\n",
      "1000/1000 [==============================] - ETA: 0s - loss: 4.3929 - PSNR: 30.9876 - accuracy: 0.9205\n",
      "Epoch 00006: saving model to weights/article\\weights-edsr-x2-0006-30.99.h5\n",
      "1000/1000 [==============================] - 27s 27ms/step - loss: 4.3929 - PSNR: 30.9876 - accuracy: 0.9205\n",
      "Epoch 7/30\n",
      " 999/1000 [============================>.] - ETA: 0s - loss: 4.3587 - PSNR: 31.0546 - accuracy: 0.9227\n",
      "Epoch 00007: saving model to weights/article\\weights-edsr-x2-0007-31.06.h5\n",
      "1000/1000 [==============================] - 27s 27ms/step - loss: 4.3571 - PSNR: 31.0563 - accuracy: 0.9227\n",
      "Epoch 8/30\n",
      "1000/1000 [==============================] - ETA: 0s - loss: 4.3502 - PSNR: 31.0624 - accuracy: 0.9232\n",
      "Epoch 00008: saving model to weights/article\\weights-edsr-x2-0008-31.06.h5\n",
      "1000/1000 [==============================] - 27s 27ms/step - loss: 4.3502 - PSNR: 31.0624 - accuracy: 0.9232\n",
      "Epoch 9/30\n",
      "1000/1000 [==============================] - ETA: 0s - loss: 4.3644 - PSNR: 31.0347 - accuracy: 0.9223\n",
      "Epoch 00009: saving model to weights/article\\weights-edsr-x2-0009-31.03.h5\n",
      "1000/1000 [==============================] - 27s 27ms/step - loss: 4.3644 - PSNR: 31.0347 - accuracy: 0.9223\n",
      "Epoch 10/30\n",
      "1000/1000 [==============================] - ETA: 0s - loss: 4.3531 - PSNR: 31.0682 - accuracy: 0.9206\n",
      "Epoch 00010: saving model to weights/article\\weights-edsr-x2-0010-31.07.h5\n",
      "1000/1000 [==============================] - 27s 27ms/step - loss: 4.3531 - PSNR: 31.0682 - accuracy: 0.9206\n",
      "Epoch 11/30\n",
      "1000/1000 [==============================] - ETA: 0s - loss: 4.3895 - PSNR: 30.9755 - accuracy: 0.9203 ETA: 0s - loss: 4.3896 - PSNR: 30\n",
      "Epoch 00011: saving model to weights/article\\weights-edsr-x2-0011-30.98.h5\n",
      "1000/1000 [==============================] - 27s 27ms/step - loss: 4.3895 - PSNR: 30.9755 - accuracy: 0.9203\n",
      "Epoch 12/30\n",
      "1000/1000 [==============================] - ETA: 0s - loss: 4.3608 - PSNR: 31.0482 - accuracy: 0.9230\n",
      "Epoch 00012: saving model to weights/article\\weights-edsr-x2-0012-31.05.h5\n",
      "1000/1000 [==============================] - 27s 27ms/step - loss: 4.3608 - PSNR: 31.0482 - accuracy: 0.9230\n",
      "Epoch 13/30\n",
      "1000/1000 [==============================] - ETA: 0s - loss: 4.3844 - PSNR: 31.0040 - accuracy: 0.9197\n",
      "Epoch 00013: saving model to weights/article\\weights-edsr-x2-0013-31.00.h5\n",
      "1000/1000 [==============================] - 27s 27ms/step - loss: 4.3844 - PSNR: 31.0040 - accuracy: 0.9197\n",
      "Epoch 14/30\n",
      " 999/1000 [============================>.] - ETA: 0s - loss: 4.3649 - PSNR: 31.0636 - accuracy: 0.9215 ETA: 1s - loss:\n",
      "Epoch 00014: saving model to weights/article\\weights-edsr-x2-0014-31.06.h5\n",
      "1000/1000 [==============================] - 27s 27ms/step - loss: 4.3641 - PSNR: 31.0635 - accuracy: 0.9213\n",
      "Epoch 15/30\n",
      "1000/1000 [==============================] - ETA: 0s - loss: 4.3243 - PSNR: 31.1266 - accuracy: 0.9216\n",
      "Epoch 00015: saving model to weights/article\\weights-edsr-x2-0015-31.13.h5\n",
      "1000/1000 [==============================] - 27s 27ms/step - loss: 4.3243 - PSNR: 31.1266 - accuracy: 0.9216\n",
      "Epoch 16/30\n",
      " 999/1000 [============================>.] - ETA: 0s - loss: 4.3232 - PSNR: 31.1413 - accuracy: 0.9229\n",
      "Epoch 00016: saving model to weights/article\\weights-edsr-x2-0016-31.14.h5\n",
      "1000/1000 [==============================] - 27s 27ms/step - loss: 4.3256 - PSNR: 31.1371 - accuracy: 0.9228\n",
      "Epoch 17/30\n",
      "1000/1000 [==============================] - ETA: 0s - loss: 4.3618 - PSNR: 31.0008 - accuracy: 0.9232\n",
      "Epoch 00017: saving model to weights/article\\weights-edsr-x2-0017-31.00.h5\n",
      "1000/1000 [==============================] - 27s 27ms/step - loss: 4.3618 - PSNR: 31.0008 - accuracy: 0.9232\n",
      "Epoch 18/30\n",
      "1000/1000 [==============================] - ETA: 0s - loss: 4.3373 - PSNR: 31.1127 - accuracy: 0.9206\n",
      "Epoch 00018: saving model to weights/article\\weights-edsr-x2-0018-31.11.h5\n",
      "1000/1000 [==============================] - 27s 27ms/step - loss: 4.3373 - PSNR: 31.1127 - accuracy: 0.9206\n",
      "Epoch 19/30\n",
      "1000/1000 [==============================] - ETA: 0s - loss: 4.3356 - PSNR: 31.0954 - accuracy: 0.9229\n",
      "Epoch 00019: saving model to weights/article\\weights-edsr-x2-0019-31.10.h5\n",
      "1000/1000 [==============================] - 27s 27ms/step - loss: 4.3356 - PSNR: 31.0954 - accuracy: 0.9229\n",
      "Epoch 20/30\n",
      " 999/1000 [============================>.] - ETA: 0s - loss: 4.3583 - PSNR: 31.0565 - accuracy: 0.9233\n",
      "Epoch 00020: saving model to weights/article\\weights-edsr-x2-0020-31.05.h5\n",
      "1000/1000 [==============================] - 27s 27ms/step - loss: 4.3599 - PSNR: 31.0518 - accuracy: 0.9233\n",
      "Epoch 21/30\n",
      " 999/1000 [============================>.] - ETA: 0s - loss: 4.3254 - PSNR: 31.1130 - accuracy: 0.9220\n",
      "Epoch 00021: saving model to weights/article\\weights-edsr-x2-0021-31.11.h5\n",
      "1000/1000 [==============================] - 27s 27ms/step - loss: 4.3251 - PSNR: 31.1126 - accuracy: 0.9219\n",
      "Epoch 22/30\n",
      "1000/1000 [==============================] - ETA: 0s - loss: 4.3116 - PSNR: 31.1421 - accuracy: 0.9215\n",
      "Epoch 00022: saving model to weights/article\\weights-edsr-x2-0022-31.14.h5\n",
      "1000/1000 [==============================] - 27s 27ms/step - loss: 4.3116 - PSNR: 31.1421 - accuracy: 0.9215\n",
      "Epoch 23/30\n",
      "1000/1000 [==============================] - ETA: 0s - loss: 4.3244 - PSNR: 31.1357 - accuracy: 0.9212\n",
      "Epoch 00023: saving model to weights/article\\weights-edsr-x2-0023-31.14.h5\n",
      "1000/1000 [==============================] - 27s 27ms/step - loss: 4.3244 - PSNR: 31.1357 - accuracy: 0.9212\n",
      "Epoch 24/30\n",
      "1000/1000 [==============================] - ETA: 0s - loss: 4.3729 - PSNR: 30.9579 - accuracy: 0.9201\n",
      "Epoch 00024: saving model to weights/article\\weights-edsr-x2-0024-30.96.h5\n",
      "1000/1000 [==============================] - 27s 27ms/step - loss: 4.3729 - PSNR: 30.9579 - accuracy: 0.9201\n",
      "Epoch 25/30\n",
      "1000/1000 [==============================] - ETA: 0s - loss: 4.3014 - PSNR: 31.1702 - accuracy: 0.9226\n",
      "Epoch 00025: saving model to weights/article\\weights-edsr-x2-0025-31.17.h5\n",
      "1000/1000 [==============================] - 27s 27ms/step - loss: 4.3014 - PSNR: 31.1702 - accuracy: 0.9226\n",
      "Epoch 26/30\n",
      "1000/1000 [==============================] - ETA: 0s - loss: 4.3706 - PSNR: 31.0112 - accuracy: 0.9209\n",
      "Epoch 00026: saving model to weights/article\\weights-edsr-x2-0026-31.01.h5\n",
      "1000/1000 [==============================] - 27s 27ms/step - loss: 4.3706 - PSNR: 31.0112 - accuracy: 0.9209\n",
      "Epoch 27/30\n",
      " 999/1000 [============================>.] - ETA: 0s - loss: 4.3140 - PSNR: 31.1542 - accuracy: 0.9220\n",
      "Epoch 00027: saving model to weights/article\\weights-edsr-x2-0027-31.16.h5\n",
      "1000/1000 [==============================] - 27s 27ms/step - loss: 4.3117 - PSNR: 31.1582 - accuracy: 0.9220\n",
      "Epoch 28/30\n",
      "1000/1000 [==============================] - ETA: 0s - loss: 4.2994 - PSNR: 31.1603 - accuracy: 0.9229\n",
      "Epoch 00028: saving model to weights/article\\weights-edsr-x2-0028-31.16.h5\n",
      "1000/1000 [==============================] - 27s 27ms/step - loss: 4.2994 - PSNR: 31.1603 - accuracy: 0.9229\n",
      "Epoch 29/30\n",
      "1000/1000 [==============================] - ETA: 0s - loss: 4.2968 - PSNR: 31.1885 - accuracy: 0.9225\n",
      "Epoch 00029: saving model to weights/article\\weights-edsr-x2-0029-31.19.h5\n",
      "1000/1000 [==============================] - 27s 27ms/step - loss: 4.2968 - PSNR: 31.1885 - accuracy: 0.9225\n",
      "Epoch 30/30\n",
      "1000/1000 [==============================] - ETA: 0s - loss: 4.2921 - PSNR: 31.1254 - accuracy: 0.9224\n",
      "Epoch 00030: saving model to weights/article\\weights-edsr-x2-0030-31.13.h5\n",
      "1000/1000 [==============================] - 27s 27ms/step - loss: 4.2921 - PSNR: 31.1254 - accuracy: 0.9224\n"
     ]
    }
   ],
   "source": [
    "def PSNR(img_hr, img_sr):\n",
    "    return 10.0*K.log(K.square(255.0)/(K.mean(K.square(img_sr-img_hr))))/K.log(10.0)\n",
    "\n",
    "# Create directory for saving model weights\n",
    "weights_dir = 'weights/article'\n",
    "# EDSR baseline as described in the EDSR paper (1.52M parameters)\n",
    "model_edsr = edsr(scale=2, num_filters=25, num_res_blocks=4)\n",
    "\n",
    "learning_rate = 1e-4\n",
    "epochs = 30\n",
    "steps_per_epoch = 1000\n",
    "\n",
    "os.makedirs(weights_dir, exist_ok=True)\n",
    "\n",
    "#####################################################################################################\n",
    "model_edsr.load_weights(os.path.join(weights_dir, 'weights-edsr-x2.h5'))\n",
    "model_edsr.compile(\n",
    "    optimizer=Adam(learning_rate=learning_rate),\n",
    "    loss='mean_absolute_error',\n",
    "    metrics=[PSNR, \"accuracy\"])\n",
    "model_edsr.summary()\n",
    "\n",
    "filepath=os.path.join(weights_dir, 'weights-edsr-x2-{epoch:04d}-{PSNR:.2f}.h5')\n",
    "checkpoint = ModelCheckpoint(filepath, monitor=PSNR, verbose=1, mode='max')\n",
    "callbacks_list = [checkpoint]\n",
    "\n",
    "model_edsr.fit(\n",
    "    train_ds,\n",
    "    epochs=epochs,\n",
    "    steps_per_epoch=steps_per_epoch,\n",
    "    callbacks=callbacks_list,\n",
    "    verbose=1)\n",
    "model_edsr.save_weights(os.path.join(weights_dir, 'weights-edsr-x2.h5'))\n",
    "\n"
   ]
  },
  {
   "cell_type": "markdown",
   "metadata": {},
   "source": [
    "# DEMO"
   ]
  },
  {
   "cell_type": "code",
   "execution_count": 5,
   "metadata": {},
   "outputs": [],
   "source": [
    "def resolve_single(model, lr):\n",
    "    return resolve(model, tf.expand_dims(lr, axis=0))[0]\n",
    "\n",
    "def resolve(model, lr_batch):\n",
    "    lr_batch = tf.cast(lr_batch, tf.float32)\n",
    "    sr_batch = model(lr_batch)\n",
    "    sr_batch = tf.clip_by_value(sr_batch, 0, 255)\n",
    "    sr_batch = tf.round(sr_batch)\n",
    "    sr_batch = tf.cast(sr_batch, tf.uint8)\n",
    "    return sr_batch\n",
    "\n",
    "#def load_image(path):\n",
    "#    return np.array(Image.open(path))"
   ]
  },
  {
   "cell_type": "markdown",
   "metadata": {},
   "source": [
    "# DEMO Picture"
   ]
  },
  {
   "cell_type": "code",
   "execution_count": 8,
   "metadata": {},
   "outputs": [
    {
     "name": "stdout",
     "output_type": "stream",
     "text": [
      "7.393781423568726\n",
      "0.015028953552246094\n",
      "0.48154687881469727\n",
      "0.04499197006225586\n"
     ]
    }
   ],
   "source": [
    "edsr_pre_trained = edsr(scale=2, num_filters=25, num_res_blocks=4)\n",
    "edsr_pre_trained.load_weights('weights/article/weights-edsr-x2.h5')\n",
    "#edsr_pre_trained.load_weights('weights/article/weights-edsr-x2.h5')\n",
    "\n",
    "#####################################################\n",
    "tick0=time.time()\n",
    "\n",
    "for i in range(10):\n",
    "    #read image\n",
    "    lr_image_path = './demo/testys1080p001.png'\n",
    "    lr = np.array(Image.open(lr_image_path))\n",
    "    #run\n",
    "    sr = resolve_single(edsr_pre_trained, lr)\n",
    "    #write image\n",
    "    sr_image_path = './testys1080p001_out.bmp'\n",
    "    data_numpy_sr = Image.fromarray(sr.numpy())\n",
    "    data_numpy_sr.save(sr_image_path)\n",
    "\n",
    "tick1=time.time()\n",
    "print(tick1-tick0)\n",
    "\n",
    "#####################################################\n",
    "tick0=time.time()\n",
    "#read image\n",
    "lr_image_path = './demo/testys1080p001.bmp'\n",
    "lr = np.array(Image.open(lr_image_path))\n",
    "\n",
    "tick1=time.time()\n",
    "#run\n",
    "sr = resolve_single(edsr_pre_trained, lr)\n",
    "tick2=time.time()\n",
    "#write image\n",
    "sr_image_path = './testys1080p001_out.bmp'\n",
    "data_numpy_sr = Image.fromarray(sr.numpy())\n",
    "data_numpy_sr.save(sr_image_path)\n",
    "tick3=time.time()\n",
    "\n",
    "print(tick1-tick0)\n",
    "print(tick2-tick1)\n",
    "print(tick3-tick2)"
   ]
  },
  {
   "cell_type": "markdown",
   "metadata": {},
   "source": [
    "# DEMO Video"
   ]
  },
  {
   "cell_type": "code",
   "execution_count": 6,
   "metadata": {},
   "outputs": [
    {
     "name": "stdout",
     "output_type": "stream",
     "text": [
      "time: 139.15846848487854\n",
      "fps: 1.6599780273171179\n"
     ]
    }
   ],
   "source": [
    "edsr_pre_trained = edsr(scale=2, num_filters=25, num_res_blocks=4)\n",
    "edsr_pre_trained.load_weights('weights/article/weights-edsr-x2.h5')\n",
    "\n",
    "cap = cv2.VideoCapture(\"demo/test0_l.flv\")  #读取视频文件\n",
    "fps = 30\n",
    "size = (int(2*cap.get(cv2.CAP_PROP_FRAME_WIDTH)), int(2*cap.get(cv2.CAP_PROP_FRAME_HEIGHT)))\n",
    "videoWriter = cv2.VideoWriter('test0_l.avi', cv2.VideoWriter_fourcc('X', 'V', 'I', 'D'), fps, size)\n",
    "#PS: I后缀一般指代帧内编码\n",
    "#cv2.VideoWriter_fourcc('I', '4', '2', '0'),该参数是YUV编码类型，文件名后缀为.avi\n",
    "#cv2.VideoWriter_fourcc('P', 'I', 'M', 'I'),该参数是MPEG-1编码类型，文件名后缀为.avi\n",
    "#cv2.VideoWriter_fourcc('M', 'P', 'E', 'G'),该参数是MPEG-2编码类型，文件名后缀为.avi\n",
    "#cv2.VideoWriter_fourcc('X', 'V', 'I', 'D'),该参数是MPEG-4编码类型，文件名后缀为.avi\n",
    "#cv2.VideoWriter_fourcc('T', 'H', 'E', 'O'),该参数是Ogg Vorbis,文件名后缀为.ogv\n",
    "#cv2.VideoWriter_fourcc('F', 'L', 'V', '1'),该参数是Flash视频，文件名后缀为.flv\n",
    "#cv2.VideoWriter_fourcc('M','J','P','G') = motion-jpeg codec   --> mp4v\n",
    "#cv2.VideoWriter_fourcc('M', 'P', '4', '2') = MPEG-4.2 codec\n",
    "#cv2.VideoWriter_fourcc('D', 'I', 'V', '3') = MPEG-4.3 codec\n",
    "#cv2.VideoWriter_fourcc('D', 'I', 'V', 'X') = MPEG-4 codec     --> avi\n",
    "#cv2.VideoWriter_fourcc('U', '2', '6', '3') = H263 codec\n",
    "#cv2.VideoWriter_fourcc('I', '2', '6', '3') = H263I codec\n",
    "\n",
    "counter = 0\n",
    "showTimeLine = 1\n",
    "tick0 = time.time()\n",
    "while(True):\n",
    "    ret, lr = cap.read()\n",
    "    if ret:\n",
    "        sr = resolve_single(edsr_pre_trained, lr)#process from lr to sr\n",
    "        videoWriter.write(sr.numpy())#write sr\n",
    "        counter = counter+1#counter for compute fps\n",
    "        if showTimeLine == 1:#show TimeLine\n",
    "            lr = cv2.resize(lr, (960, 540))\n",
    "            cv2.imshow(\"TimeLine\", lr)\n",
    "        if cv2.waitKey(1) & 0xFF == ord('q'):\n",
    "            break\n",
    "    else:\n",
    "        break\n",
    "tick1= time.time()\n",
    "print('time:', tick1-tick0)\n",
    "print('fps:', counter/(tick1-tick0))\n",
    "\n",
    "cap.release()\n",
    "videoWriter.release()\n",
    "cv2.destroyAllWindows()\n"
   ]
  },
  {
   "cell_type": "code",
   "execution_count": null,
   "metadata": {},
   "outputs": [],
   "source": []
  },
  {
   "cell_type": "code",
   "execution_count": null,
   "metadata": {},
   "outputs": [],
   "source": []
  },
  {
   "cell_type": "code",
   "execution_count": null,
   "metadata": {},
   "outputs": [],
   "source": []
  }
 ],
 "metadata": {
  "kernelspec": {
   "display_name": "Python 3",
   "language": "python",
   "name": "python3"
  },
  "language_info": {
   "codemirror_mode": {
    "name": "ipython",
    "version": 3
   },
   "file_extension": ".py",
   "mimetype": "text/x-python",
   "name": "python",
   "nbconvert_exporter": "python",
   "pygments_lexer": "ipython3",
   "version": "3.8.8"
  }
 },
 "nbformat": 4,
 "nbformat_minor": 2
}
